{
 "cells": [
  {
   "cell_type": "code",
   "execution_count": 1,
   "metadata": {},
   "outputs": [],
   "source": [
    "import preprocessing as eeg\n",
    "import numpy as np\n",
    "from matplotlib import pyplot as plt\n",
    "import mne\n",
    "import scipy.stats\n",
    "import csv"
   ]
  },
  {
   "cell_type": "code",
   "execution_count": 2,
   "metadata": {},
   "outputs": [
    {
     "name": "stdout",
     "output_type": "stream",
     "text": [
      "/home/kfsh/data/eeg/*/*/*cca.vhdr\n",
      "Found the following subjs:\n",
      "['OP0001', 'OP0002', 'OP0003', 'OP0004', 'OP0005', 'OP0006', 'OP0007', 'OP0008', 'OP0009', 'OP0010', 'OP0011', 'OP0012', 'OP0013', 'OP0014', 'OP0015', 'OP0016', 'OP0017', 'OP0018', 'OP0019', 'OP0020', 'OP0021']\n",
      "Ignoring these subjects: \n",
      "['OP0001', 'OP0002', 'OP0004', 'OP0020']\n",
      "Will plot grand average of 17 subjects.\n"
     ]
    }
   ],
   "source": [
    "# paths\n",
    "user = 'kfsh'\n",
    "data_path = '/home/%s/data/' % user\n",
    "git_path = f'/home/{user}/git'\n",
    "\n",
    "tmin,tmax = -.2,.5\n",
    "picks = ['F1','Fz','F2','FC1','FCz','FC2','C1','Cz','C2'] # N100 ROI from topomaps\n",
    "\n",
    "# get a list of subjects\n",
    "subjs = eeg.find_subjs(data_path, data_suffix='cca.vhdr')\n",
    "\n",
    "\n",
    "ignore_these_subjs = ['OP0001','OP0002','OP0004','OP0020']\n",
    "print(\"Ignoring these subjects: \")\n",
    "print(ignore_these_subjs)\n",
    "subjs = [subj for subj in subjs if subj not in ignore_these_subjs]\n",
    "print(\"Will plot grand average of %d subjects.\"%(len(subjs)))"
   ]
  },
  {
   "cell_type": "markdown",
   "metadata": {},
   "source": [
    "## Load data"
   ]
  },
  {
   "cell_type": "code",
   "execution_count": 3,
   "metadata": {
    "scrolled": true
   },
   "outputs": [
    {
     "name": "stderr",
     "output_type": "stream",
     "text": [
      "<ipython-input-3-52dfbca975ef>:10: RuntimeWarning: No coordinate information found for channels ['spkr', 'mic', 'vEOG', 'hEOG']. Setting channel types to misc. To avoid this warning, set channel types explicitly.\n",
      "  raws[subj] = mne.io.read_raw_brainvision(raw_path,preload=True,verbose=False)\n"
     ]
    },
    {
     "name": "stdout",
     "output_type": "stream",
     "text": [
      "Filtering raw data in 1 contiguous segment\n",
      "Setting up band-pass filter from 1 - 15 Hz\n",
      "\n",
      "FIR filter parameters\n",
      "---------------------\n",
      "Designing a one-pass, zero-phase, non-causal bandpass filter:\n",
      "- Windowed time-domain design (firwin) method\n",
      "- Hamming window with 0.0194 passband ripple and 53 dB stopband attenuation\n",
      "- Lower passband edge: 1.00\n",
      "- Lower transition bandwidth: 1.00 Hz (-6 dB cutoff frequency: 0.50 Hz)\n",
      "- Upper passband edge: 15.00 Hz\n",
      "- Upper transition bandwidth: 3.75 Hz (-6 dB cutoff frequency: 16.88 Hz)\n",
      "- Filter length: 423 samples (3.305 sec)\n",
      "\n",
      "Interpolating ['T8', 'FC5']\n"
     ]
    },
    {
     "name": "stderr",
     "output_type": "stream",
     "text": [
      "<ipython-input-3-52dfbca975ef>:10: RuntimeWarning: No coordinate information found for channels ['spkr', 'mic', 'vEOG', 'hEOG']. Setting channel types to misc. To avoid this warning, set channel types explicitly.\n",
      "  raws[subj] = mne.io.read_raw_brainvision(raw_path,preload=True,verbose=False)\n"
     ]
    },
    {
     "name": "stdout",
     "output_type": "stream",
     "text": [
      "Filtering raw data in 1 contiguous segment\n",
      "Setting up band-pass filter from 1 - 15 Hz\n",
      "\n",
      "FIR filter parameters\n",
      "---------------------\n",
      "Designing a one-pass, zero-phase, non-causal bandpass filter:\n",
      "- Windowed time-domain design (firwin) method\n",
      "- Hamming window with 0.0194 passband ripple and 53 dB stopband attenuation\n",
      "- Lower passband edge: 1.00\n",
      "- Lower transition bandwidth: 1.00 Hz (-6 dB cutoff frequency: 0.50 Hz)\n",
      "- Upper passband edge: 15.00 Hz\n",
      "- Upper transition bandwidth: 3.75 Hz (-6 dB cutoff frequency: 16.88 Hz)\n",
      "- Filter length: 423 samples (3.305 sec)\n",
      "\n",
      "Interpolating ['FT7']\n"
     ]
    },
    {
     "name": "stderr",
     "output_type": "stream",
     "text": [
      "<ipython-input-3-52dfbca975ef>:10: RuntimeWarning: No coordinate information found for channels ['spkr', 'mic', 'vEOG', 'hEOG']. Setting channel types to misc. To avoid this warning, set channel types explicitly.\n",
      "  raws[subj] = mne.io.read_raw_brainvision(raw_path,preload=True,verbose=False)\n"
     ]
    },
    {
     "name": "stdout",
     "output_type": "stream",
     "text": [
      "Filtering raw data in 1 contiguous segment\n",
      "Setting up band-pass filter from 1 - 15 Hz\n",
      "\n",
      "FIR filter parameters\n",
      "---------------------\n",
      "Designing a one-pass, zero-phase, non-causal bandpass filter:\n",
      "- Windowed time-domain design (firwin) method\n",
      "- Hamming window with 0.0194 passband ripple and 53 dB stopband attenuation\n",
      "- Lower passband edge: 1.00\n",
      "- Lower transition bandwidth: 1.00 Hz (-6 dB cutoff frequency: 0.50 Hz)\n",
      "- Upper passband edge: 15.00 Hz\n",
      "- Upper transition bandwidth: 3.75 Hz (-6 dB cutoff frequency: 16.88 Hz)\n",
      "- Filter length: 423 samples (3.305 sec)\n",
      "\n",
      "OP0006_B1 has no bads.\n"
     ]
    },
    {
     "name": "stderr",
     "output_type": "stream",
     "text": [
      "<ipython-input-3-52dfbca975ef>:10: RuntimeWarning: No coordinate information found for channels ['spkr', 'mic', 'vEOG', 'hEOG']. Setting channel types to misc. To avoid this warning, set channel types explicitly.\n",
      "  raws[subj] = mne.io.read_raw_brainvision(raw_path,preload=True,verbose=False)\n"
     ]
    },
    {
     "name": "stdout",
     "output_type": "stream",
     "text": [
      "Filtering raw data in 1 contiguous segment\n",
      "Setting up band-pass filter from 1 - 15 Hz\n",
      "\n",
      "FIR filter parameters\n",
      "---------------------\n",
      "Designing a one-pass, zero-phase, non-causal bandpass filter:\n",
      "- Windowed time-domain design (firwin) method\n",
      "- Hamming window with 0.0194 passband ripple and 53 dB stopband attenuation\n",
      "- Lower passband edge: 1.00\n",
      "- Lower transition bandwidth: 1.00 Hz (-6 dB cutoff frequency: 0.50 Hz)\n",
      "- Upper passband edge: 15.00 Hz\n",
      "- Upper transition bandwidth: 3.75 Hz (-6 dB cutoff frequency: 16.88 Hz)\n",
      "- Filter length: 423 samples (3.305 sec)\n",
      "\n",
      "Interpolating ['FT9']\n"
     ]
    },
    {
     "name": "stderr",
     "output_type": "stream",
     "text": [
      "<ipython-input-3-52dfbca975ef>:10: RuntimeWarning: No coordinate information found for channels ['spkr', 'mic', 'vEOG', 'hEOG']. Setting channel types to misc. To avoid this warning, set channel types explicitly.\n",
      "  raws[subj] = mne.io.read_raw_brainvision(raw_path,preload=True,verbose=False)\n"
     ]
    },
    {
     "name": "stdout",
     "output_type": "stream",
     "text": [
      "Filtering raw data in 1 contiguous segment\n",
      "Setting up band-pass filter from 1 - 15 Hz\n",
      "\n",
      "FIR filter parameters\n",
      "---------------------\n",
      "Designing a one-pass, zero-phase, non-causal bandpass filter:\n",
      "- Windowed time-domain design (firwin) method\n",
      "- Hamming window with 0.0194 passband ripple and 53 dB stopband attenuation\n",
      "- Lower passband edge: 1.00\n",
      "- Lower transition bandwidth: 1.00 Hz (-6 dB cutoff frequency: 0.50 Hz)\n",
      "- Upper passband edge: 15.00 Hz\n",
      "- Upper transition bandwidth: 3.75 Hz (-6 dB cutoff frequency: 16.88 Hz)\n",
      "- Filter length: 423 samples (3.305 sec)\n",
      "\n",
      "OP0008_B1 has no bads.\n"
     ]
    },
    {
     "name": "stderr",
     "output_type": "stream",
     "text": [
      "<ipython-input-3-52dfbca975ef>:10: RuntimeWarning: No coordinate information found for channels ['spkr', 'mic', 'vEOG', 'hEOG']. Setting channel types to misc. To avoid this warning, set channel types explicitly.\n",
      "  raws[subj] = mne.io.read_raw_brainvision(raw_path,preload=True,verbose=False)\n"
     ]
    },
    {
     "name": "stdout",
     "output_type": "stream",
     "text": [
      "Filtering raw data in 1 contiguous segment\n",
      "Setting up band-pass filter from 1 - 15 Hz\n",
      "\n",
      "FIR filter parameters\n",
      "---------------------\n",
      "Designing a one-pass, zero-phase, non-causal bandpass filter:\n",
      "- Windowed time-domain design (firwin) method\n",
      "- Hamming window with 0.0194 passband ripple and 53 dB stopband attenuation\n",
      "- Lower passband edge: 1.00\n",
      "- Lower transition bandwidth: 1.00 Hz (-6 dB cutoff frequency: 0.50 Hz)\n",
      "- Upper passband edge: 15.00 Hz\n",
      "- Upper transition bandwidth: 3.75 Hz (-6 dB cutoff frequency: 16.88 Hz)\n",
      "- Filter length: 423 samples (3.305 sec)\n",
      "\n",
      "OP0009_B1 has no bads.\n"
     ]
    },
    {
     "name": "stderr",
     "output_type": "stream",
     "text": [
      "<ipython-input-3-52dfbca975ef>:10: RuntimeWarning: No coordinate information found for channels ['spkr', 'mic', 'vEOG', 'hEOG']. Setting channel types to misc. To avoid this warning, set channel types explicitly.\n",
      "  raws[subj] = mne.io.read_raw_brainvision(raw_path,preload=True,verbose=False)\n"
     ]
    },
    {
     "name": "stdout",
     "output_type": "stream",
     "text": [
      "Filtering raw data in 1 contiguous segment\n",
      "Setting up band-pass filter from 1 - 15 Hz\n",
      "\n",
      "FIR filter parameters\n",
      "---------------------\n",
      "Designing a one-pass, zero-phase, non-causal bandpass filter:\n",
      "- Windowed time-domain design (firwin) method\n",
      "- Hamming window with 0.0194 passband ripple and 53 dB stopband attenuation\n",
      "- Lower passband edge: 1.00\n",
      "- Lower transition bandwidth: 1.00 Hz (-6 dB cutoff frequency: 0.50 Hz)\n",
      "- Upper passband edge: 15.00 Hz\n",
      "- Upper transition bandwidth: 3.75 Hz (-6 dB cutoff frequency: 16.88 Hz)\n",
      "- Filter length: 423 samples (3.305 sec)\n",
      "\n",
      "Interpolating ['PO7']\n"
     ]
    },
    {
     "name": "stderr",
     "output_type": "stream",
     "text": [
      "<ipython-input-3-52dfbca975ef>:10: RuntimeWarning: No coordinate information found for channels ['spkr', 'mic', 'vEOG', 'hEOG']. Setting channel types to misc. To avoid this warning, set channel types explicitly.\n",
      "  raws[subj] = mne.io.read_raw_brainvision(raw_path,preload=True,verbose=False)\n"
     ]
    },
    {
     "name": "stdout",
     "output_type": "stream",
     "text": [
      "Filtering raw data in 1 contiguous segment\n",
      "Setting up band-pass filter from 1 - 15 Hz\n",
      "\n",
      "FIR filter parameters\n",
      "---------------------\n",
      "Designing a one-pass, zero-phase, non-causal bandpass filter:\n",
      "- Windowed time-domain design (firwin) method\n",
      "- Hamming window with 0.0194 passband ripple and 53 dB stopband attenuation\n",
      "- Lower passband edge: 1.00\n",
      "- Lower transition bandwidth: 1.00 Hz (-6 dB cutoff frequency: 0.50 Hz)\n",
      "- Upper passband edge: 15.00 Hz\n",
      "- Upper transition bandwidth: 3.75 Hz (-6 dB cutoff frequency: 16.88 Hz)\n",
      "- Filter length: 423 samples (3.305 sec)\n",
      "\n",
      "Interpolating ['Cz']\n"
     ]
    },
    {
     "name": "stderr",
     "output_type": "stream",
     "text": [
      "<ipython-input-3-52dfbca975ef>:10: RuntimeWarning: No coordinate information found for channels ['spkr', 'mic', 'vEOG', 'hEOG']. Setting channel types to misc. To avoid this warning, set channel types explicitly.\n",
      "  raws[subj] = mne.io.read_raw_brainvision(raw_path,preload=True,verbose=False)\n"
     ]
    },
    {
     "name": "stdout",
     "output_type": "stream",
     "text": [
      "Filtering raw data in 1 contiguous segment\n",
      "Setting up band-pass filter from 1 - 15 Hz\n",
      "\n",
      "FIR filter parameters\n",
      "---------------------\n",
      "Designing a one-pass, zero-phase, non-causal bandpass filter:\n",
      "- Windowed time-domain design (firwin) method\n",
      "- Hamming window with 0.0194 passband ripple and 53 dB stopband attenuation\n",
      "- Lower passband edge: 1.00\n",
      "- Lower transition bandwidth: 1.00 Hz (-6 dB cutoff frequency: 0.50 Hz)\n",
      "- Upper passband edge: 15.00 Hz\n",
      "- Upper transition bandwidth: 3.75 Hz (-6 dB cutoff frequency: 16.88 Hz)\n",
      "- Filter length: 423 samples (3.305 sec)\n",
      "\n",
      "OP0012_B1 has no bads.\n"
     ]
    },
    {
     "name": "stderr",
     "output_type": "stream",
     "text": [
      "<ipython-input-3-52dfbca975ef>:10: RuntimeWarning: No coordinate information found for channels ['spkr', 'mic', 'vEOG', 'hEOG']. Setting channel types to misc. To avoid this warning, set channel types explicitly.\n",
      "  raws[subj] = mne.io.read_raw_brainvision(raw_path,preload=True,verbose=False)\n"
     ]
    },
    {
     "name": "stdout",
     "output_type": "stream",
     "text": [
      "Filtering raw data in 1 contiguous segment\n",
      "Setting up band-pass filter from 1 - 15 Hz\n",
      "\n",
      "FIR filter parameters\n",
      "---------------------\n",
      "Designing a one-pass, zero-phase, non-causal bandpass filter:\n",
      "- Windowed time-domain design (firwin) method\n",
      "- Hamming window with 0.0194 passband ripple and 53 dB stopband attenuation\n",
      "- Lower passband edge: 1.00\n",
      "- Lower transition bandwidth: 1.00 Hz (-6 dB cutoff frequency: 0.50 Hz)\n",
      "- Upper passband edge: 15.00 Hz\n",
      "- Upper transition bandwidth: 3.75 Hz (-6 dB cutoff frequency: 16.88 Hz)\n",
      "- Filter length: 423 samples (3.305 sec)\n",
      "\n",
      "OP0013_B1 has no bads.\n"
     ]
    },
    {
     "name": "stderr",
     "output_type": "stream",
     "text": [
      "<ipython-input-3-52dfbca975ef>:10: RuntimeWarning: No coordinate information found for channels ['vEOG', 'hEOG']. Setting channel types to misc. To avoid this warning, set channel types explicitly.\n",
      "  raws[subj] = mne.io.read_raw_brainvision(raw_path,preload=True,verbose=False)\n"
     ]
    },
    {
     "name": "stdout",
     "output_type": "stream",
     "text": [
      "Filtering raw data in 1 contiguous segment\n",
      "Setting up band-pass filter from 1 - 15 Hz\n",
      "\n",
      "FIR filter parameters\n",
      "---------------------\n",
      "Designing a one-pass, zero-phase, non-causal bandpass filter:\n",
      "- Windowed time-domain design (firwin) method\n",
      "- Hamming window with 0.0194 passband ripple and 53 dB stopband attenuation\n",
      "- Lower passband edge: 1.00\n",
      "- Lower transition bandwidth: 1.00 Hz (-6 dB cutoff frequency: 0.50 Hz)\n",
      "- Upper passband edge: 15.00 Hz\n",
      "- Upper transition bandwidth: 3.75 Hz (-6 dB cutoff frequency: 16.88 Hz)\n",
      "- Filter length: 423 samples (3.305 sec)\n",
      "\n",
      "Interpolating ['Fp2']\n"
     ]
    },
    {
     "name": "stderr",
     "output_type": "stream",
     "text": [
      "<ipython-input-3-52dfbca975ef>:10: RuntimeWarning: No coordinate information found for channels ['spkr', 'mic', 'vEOG', 'hEOG']. Setting channel types to misc. To avoid this warning, set channel types explicitly.\n",
      "  raws[subj] = mne.io.read_raw_brainvision(raw_path,preload=True,verbose=False)\n"
     ]
    },
    {
     "name": "stdout",
     "output_type": "stream",
     "text": [
      "Filtering raw data in 1 contiguous segment\n",
      "Setting up band-pass filter from 1 - 15 Hz\n",
      "\n",
      "FIR filter parameters\n",
      "---------------------\n",
      "Designing a one-pass, zero-phase, non-causal bandpass filter:\n",
      "- Windowed time-domain design (firwin) method\n",
      "- Hamming window with 0.0194 passband ripple and 53 dB stopband attenuation\n",
      "- Lower passband edge: 1.00\n",
      "- Lower transition bandwidth: 1.00 Hz (-6 dB cutoff frequency: 0.50 Hz)\n",
      "- Upper passband edge: 15.00 Hz\n",
      "- Upper transition bandwidth: 3.75 Hz (-6 dB cutoff frequency: 16.88 Hz)\n",
      "- Filter length: 423 samples (3.305 sec)\n",
      "\n",
      "Interpolating ['AF8']\n"
     ]
    },
    {
     "name": "stderr",
     "output_type": "stream",
     "text": [
      "<ipython-input-3-52dfbca975ef>:10: RuntimeWarning: No coordinate information found for channels ['spkr', 'mic', 'vEOG', 'hEOG']. Setting channel types to misc. To avoid this warning, set channel types explicitly.\n",
      "  raws[subj] = mne.io.read_raw_brainvision(raw_path,preload=True,verbose=False)\n"
     ]
    },
    {
     "name": "stdout",
     "output_type": "stream",
     "text": [
      "Filtering raw data in 1 contiguous segment\n",
      "Setting up band-pass filter from 1 - 15 Hz\n",
      "\n",
      "FIR filter parameters\n",
      "---------------------\n",
      "Designing a one-pass, zero-phase, non-causal bandpass filter:\n",
      "- Windowed time-domain design (firwin) method\n",
      "- Hamming window with 0.0194 passband ripple and 53 dB stopband attenuation\n",
      "- Lower passband edge: 1.00\n",
      "- Lower transition bandwidth: 1.00 Hz (-6 dB cutoff frequency: 0.50 Hz)\n",
      "- Upper passband edge: 15.00 Hz\n",
      "- Upper transition bandwidth: 3.75 Hz (-6 dB cutoff frequency: 16.88 Hz)\n",
      "- Filter length: 423 samples (3.305 sec)\n",
      "\n",
      "Interpolating ['P5', 'T8', 'FC5', 'FT7']\n"
     ]
    },
    {
     "name": "stderr",
     "output_type": "stream",
     "text": [
      "<ipython-input-3-52dfbca975ef>:10: RuntimeWarning: No coordinate information found for channels ['spkr', 'mic', 'vEOG', 'hEOG']. Setting channel types to misc. To avoid this warning, set channel types explicitly.\n",
      "  raws[subj] = mne.io.read_raw_brainvision(raw_path,preload=True,verbose=False)\n"
     ]
    },
    {
     "name": "stdout",
     "output_type": "stream",
     "text": [
      "Filtering raw data in 1 contiguous segment\n",
      "Setting up band-pass filter from 1 - 15 Hz\n",
      "\n",
      "FIR filter parameters\n",
      "---------------------\n",
      "Designing a one-pass, zero-phase, non-causal bandpass filter:\n",
      "- Windowed time-domain design (firwin) method\n",
      "- Hamming window with 0.0194 passband ripple and 53 dB stopband attenuation\n",
      "- Lower passband edge: 1.00\n",
      "- Lower transition bandwidth: 1.00 Hz (-6 dB cutoff frequency: 0.50 Hz)\n",
      "- Upper passband edge: 15.00 Hz\n",
      "- Upper transition bandwidth: 3.75 Hz (-6 dB cutoff frequency: 16.88 Hz)\n",
      "- Filter length: 423 samples (3.305 sec)\n",
      "\n",
      "Interpolating ['FT7', 'TP9']\n"
     ]
    },
    {
     "name": "stderr",
     "output_type": "stream",
     "text": [
      "<ipython-input-3-52dfbca975ef>:10: RuntimeWarning: No coordinate information found for channels ['spkr', 'mic', 'vEOG', 'hEOG']. Setting channel types to misc. To avoid this warning, set channel types explicitly.\n",
      "  raws[subj] = mne.io.read_raw_brainvision(raw_path,preload=True,verbose=False)\n"
     ]
    },
    {
     "name": "stdout",
     "output_type": "stream",
     "text": [
      "Filtering raw data in 1 contiguous segment\n",
      "Setting up band-pass filter from 1 - 15 Hz\n",
      "\n",
      "FIR filter parameters\n",
      "---------------------\n",
      "Designing a one-pass, zero-phase, non-causal bandpass filter:\n",
      "- Windowed time-domain design (firwin) method\n",
      "- Hamming window with 0.0194 passband ripple and 53 dB stopband attenuation\n",
      "- Lower passband edge: 1.00\n",
      "- Lower transition bandwidth: 1.00 Hz (-6 dB cutoff frequency: 0.50 Hz)\n",
      "- Upper passband edge: 15.00 Hz\n",
      "- Upper transition bandwidth: 3.75 Hz (-6 dB cutoff frequency: 16.88 Hz)\n",
      "- Filter length: 423 samples (3.305 sec)\n",
      "\n",
      "OP0018_B1 has no bads.\n"
     ]
    },
    {
     "name": "stderr",
     "output_type": "stream",
     "text": [
      "<ipython-input-3-52dfbca975ef>:10: RuntimeWarning: No coordinate information found for channels ['spkr', 'mic', 'vEOG', 'hEOG']. Setting channel types to misc. To avoid this warning, set channel types explicitly.\n",
      "  raws[subj] = mne.io.read_raw_brainvision(raw_path,preload=True,verbose=False)\n"
     ]
    },
    {
     "name": "stdout",
     "output_type": "stream",
     "text": [
      "Filtering raw data in 1 contiguous segment\n",
      "Setting up band-pass filter from 1 - 15 Hz\n",
      "\n",
      "FIR filter parameters\n",
      "---------------------\n",
      "Designing a one-pass, zero-phase, non-causal bandpass filter:\n",
      "- Windowed time-domain design (firwin) method\n",
      "- Hamming window with 0.0194 passband ripple and 53 dB stopband attenuation\n",
      "- Lower passband edge: 1.00\n",
      "- Lower transition bandwidth: 1.00 Hz (-6 dB cutoff frequency: 0.50 Hz)\n",
      "- Upper passband edge: 15.00 Hz\n",
      "- Upper transition bandwidth: 3.75 Hz (-6 dB cutoff frequency: 16.88 Hz)\n",
      "- Filter length: 423 samples (3.305 sec)\n",
      "\n",
      "Interpolating ['C5']\n"
     ]
    },
    {
     "name": "stderr",
     "output_type": "stream",
     "text": [
      "<ipython-input-3-52dfbca975ef>:10: RuntimeWarning: No coordinate information found for channels ['spkr', 'mic', 'vEOG', 'hEOG']. Setting channel types to misc. To avoid this warning, set channel types explicitly.\n",
      "  raws[subj] = mne.io.read_raw_brainvision(raw_path,preload=True,verbose=False)\n"
     ]
    },
    {
     "name": "stdout",
     "output_type": "stream",
     "text": [
      "Filtering raw data in 1 contiguous segment\n",
      "Setting up band-pass filter from 1 - 15 Hz\n",
      "\n",
      "FIR filter parameters\n",
      "---------------------\n",
      "Designing a one-pass, zero-phase, non-causal bandpass filter:\n",
      "- Windowed time-domain design (firwin) method\n",
      "- Hamming window with 0.0194 passband ripple and 53 dB stopband attenuation\n",
      "- Lower passband edge: 1.00\n",
      "- Lower transition bandwidth: 1.00 Hz (-6 dB cutoff frequency: 0.50 Hz)\n",
      "- Upper passband edge: 15.00 Hz\n",
      "- Upper transition bandwidth: 3.75 Hz (-6 dB cutoff frequency: 16.88 Hz)\n",
      "- Filter length: 423 samples (3.305 sec)\n",
      "\n",
      "OP0021_B1 has no bads.\n"
     ]
    }
   ],
   "source": [
    "# Load raw data\n",
    "raws,infos = dict(),dict()\n",
    "for subj in subjs:\n",
    "    blocks = eeg.find_blocks(subj,data_path,mode='eeg')\n",
    "    for block in blocks:\n",
    "        blockid = subj + '_' + block\n",
    "        if blockid not in ['OP0002_B1','OP0015_B2','OP0016_B2']: # these don't exist\n",
    "            # get raw\n",
    "            raw_path = '%seeg/%s/%s/%s_downsampled.vhdr' % (data_path,subj,blockid,blockid)\n",
    "            raws[subj] = mne.io.read_raw_brainvision(raw_path,preload=True,verbose=False)\n",
    "            raws[subj].set_eeg_reference(['TP9','TP10'],verbose=False)\n",
    "            raws[subj].notch_filter(60,verbose=False)\n",
    "            raws[subj].filter(l_freq=1,h_freq=15,verbose=True)\n",
    "            # find bad channels and interpolate them so that each subj has 64 chans\n",
    "            raws[subj] = eeg.interpolate_bads(subj,block,raws[subj],git_path,data_path)\n",
    "            infos[subj] = raws[subj].info"
   ]
  },
  {
   "cell_type": "code",
   "execution_count": 4,
   "metadata": {
    "scrolled": true
   },
   "outputs": [
    {
     "name": "stderr",
     "output_type": "stream",
     "text": [
      "<ipython-input-4-2277aa4d0b17>:10: RuntimeWarning: This filename (/home/kfsh/data/eeg/OP0003/OP0003_B1/OP0003_B1_ica.fif) does not conform to MNE naming conventions. All raw files should end with raw.fif, raw_sss.fif, raw_tsss.fif, raw.fif.gz, raw_sss.fif.gz, raw_tsss.fif.gz or _meg.fif\n",
      "  icas[subj] = mne.io.read_raw_fif(ica_path,preload=True,verbose=False)\n"
     ]
    },
    {
     "name": "stdout",
     "output_type": "stream",
     "text": [
      "Interpolating ['T8', 'FC5']\n"
     ]
    },
    {
     "name": "stderr",
     "output_type": "stream",
     "text": [
      "/home/kfsh/git/onsetProd/gkTools/preprocessing/preprocessing.py:173: RuntimeWarning: Estimated head size (75565.9 mm) exceeded 99th percentile for adult head size\n",
      "  raw.interpolate_bads()\n",
      "/home/kfsh/git/onsetProd/gkTools/preprocessing/preprocessing.py:173: RuntimeWarning: (X, Y) fit (-0.0, -1364.0) more than 20 mm from head frame origin\n",
      "  raw.interpolate_bads()\n",
      "<ipython-input-4-2277aa4d0b17>:10: RuntimeWarning: This filename (/home/kfsh/data/eeg/OP0005/OP0005_B1/OP0005_B1_ica.fif) does not conform to MNE naming conventions. All raw files should end with raw.fif, raw_sss.fif, raw_tsss.fif, raw.fif.gz, raw_sss.fif.gz, raw_tsss.fif.gz or _meg.fif\n",
      "  icas[subj] = mne.io.read_raw_fif(ica_path,preload=True,verbose=False)\n"
     ]
    },
    {
     "name": "stdout",
     "output_type": "stream",
     "text": [
      "Interpolating ['FT7']\n"
     ]
    },
    {
     "name": "stderr",
     "output_type": "stream",
     "text": [
      "/home/kfsh/git/onsetProd/gkTools/preprocessing/preprocessing.py:173: RuntimeWarning: Estimated head size (75565.9 mm) exceeded 99th percentile for adult head size\n",
      "  raw.interpolate_bads()\n",
      "/home/kfsh/git/onsetProd/gkTools/preprocessing/preprocessing.py:173: RuntimeWarning: (X, Y) fit (-0.0, -1364.0) more than 20 mm from head frame origin\n",
      "  raw.interpolate_bads()\n",
      "<ipython-input-4-2277aa4d0b17>:10: RuntimeWarning: This filename (/home/kfsh/data/eeg/OP0006/OP0006_B1/OP0006_B1_ica.fif) does not conform to MNE naming conventions. All raw files should end with raw.fif, raw_sss.fif, raw_tsss.fif, raw.fif.gz, raw_sss.fif.gz, raw_tsss.fif.gz or _meg.fif\n",
      "  icas[subj] = mne.io.read_raw_fif(ica_path,preload=True,verbose=False)\n"
     ]
    },
    {
     "name": "stdout",
     "output_type": "stream",
     "text": [
      "OP0006_B1 has no bads.\n"
     ]
    },
    {
     "name": "stderr",
     "output_type": "stream",
     "text": [
      "<ipython-input-4-2277aa4d0b17>:10: RuntimeWarning: This filename (/home/kfsh/data/eeg/OP0007/OP0007_B1/OP0007_B1_ica.fif) does not conform to MNE naming conventions. All raw files should end with raw.fif, raw_sss.fif, raw_tsss.fif, raw.fif.gz, raw_sss.fif.gz, raw_tsss.fif.gz or _meg.fif\n",
      "  icas[subj] = mne.io.read_raw_fif(ica_path,preload=True,verbose=False)\n"
     ]
    },
    {
     "name": "stdout",
     "output_type": "stream",
     "text": [
      "Interpolating ['FT9']\n"
     ]
    },
    {
     "name": "stderr",
     "output_type": "stream",
     "text": [
      "<ipython-input-4-2277aa4d0b17>:10: RuntimeWarning: This filename (/home/kfsh/data/eeg/OP0008/OP0008_B1/OP0008_B1_ica.fif) does not conform to MNE naming conventions. All raw files should end with raw.fif, raw_sss.fif, raw_tsss.fif, raw.fif.gz, raw_sss.fif.gz, raw_tsss.fif.gz or _meg.fif\n",
      "  icas[subj] = mne.io.read_raw_fif(ica_path,preload=True,verbose=False)\n"
     ]
    },
    {
     "name": "stdout",
     "output_type": "stream",
     "text": [
      "OP0008_B1 has no bads.\n"
     ]
    },
    {
     "name": "stderr",
     "output_type": "stream",
     "text": [
      "<ipython-input-4-2277aa4d0b17>:10: RuntimeWarning: This filename (/home/kfsh/data/eeg/OP0009/OP0009_B1/OP0009_B1_ica.fif) does not conform to MNE naming conventions. All raw files should end with raw.fif, raw_sss.fif, raw_tsss.fif, raw.fif.gz, raw_sss.fif.gz, raw_tsss.fif.gz or _meg.fif\n",
      "  icas[subj] = mne.io.read_raw_fif(ica_path,preload=True,verbose=False)\n"
     ]
    },
    {
     "name": "stdout",
     "output_type": "stream",
     "text": [
      "OP0009_B1 has no bads.\n"
     ]
    },
    {
     "name": "stderr",
     "output_type": "stream",
     "text": [
      "<ipython-input-4-2277aa4d0b17>:10: RuntimeWarning: This filename (/home/kfsh/data/eeg/OP0010/OP0010_B1/OP0010_B1_ica.fif) does not conform to MNE naming conventions. All raw files should end with raw.fif, raw_sss.fif, raw_tsss.fif, raw.fif.gz, raw_sss.fif.gz, raw_tsss.fif.gz or _meg.fif\n",
      "  icas[subj] = mne.io.read_raw_fif(ica_path,preload=True,verbose=False)\n"
     ]
    },
    {
     "name": "stdout",
     "output_type": "stream",
     "text": [
      "Interpolating ['PO7']\n"
     ]
    },
    {
     "name": "stderr",
     "output_type": "stream",
     "text": [
      "/home/kfsh/git/onsetProd/gkTools/preprocessing/preprocessing.py:173: RuntimeWarning: Estimated head size (75565.9 mm) exceeded 99th percentile for adult head size\n",
      "  raw.interpolate_bads()\n",
      "/home/kfsh/git/onsetProd/gkTools/preprocessing/preprocessing.py:173: RuntimeWarning: (X, Y) fit (-0.0, -1364.0) more than 20 mm from head frame origin\n",
      "  raw.interpolate_bads()\n",
      "<ipython-input-4-2277aa4d0b17>:10: RuntimeWarning: This filename (/home/kfsh/data/eeg/OP0011/OP0011_B1/OP0011_B1_ica.fif) does not conform to MNE naming conventions. All raw files should end with raw.fif, raw_sss.fif, raw_tsss.fif, raw.fif.gz, raw_sss.fif.gz, raw_tsss.fif.gz or _meg.fif\n",
      "  icas[subj] = mne.io.read_raw_fif(ica_path,preload=True,verbose=False)\n"
     ]
    },
    {
     "name": "stdout",
     "output_type": "stream",
     "text": [
      "Interpolating ['Cz']\n"
     ]
    },
    {
     "name": "stderr",
     "output_type": "stream",
     "text": [
      "/home/kfsh/git/onsetProd/gkTools/preprocessing/preprocessing.py:173: RuntimeWarning: Estimated head size (75565.9 mm) exceeded 99th percentile for adult head size\n",
      "  raw.interpolate_bads()\n",
      "/home/kfsh/git/onsetProd/gkTools/preprocessing/preprocessing.py:173: RuntimeWarning: (X, Y) fit (-0.0, -1364.0) more than 20 mm from head frame origin\n",
      "  raw.interpolate_bads()\n",
      "<ipython-input-4-2277aa4d0b17>:10: RuntimeWarning: This filename (/home/kfsh/data/eeg/OP0012/OP0012_B1/OP0012_B1_ica.fif) does not conform to MNE naming conventions. All raw files should end with raw.fif, raw_sss.fif, raw_tsss.fif, raw.fif.gz, raw_sss.fif.gz, raw_tsss.fif.gz or _meg.fif\n",
      "  icas[subj] = mne.io.read_raw_fif(ica_path,preload=True,verbose=False)\n"
     ]
    },
    {
     "name": "stdout",
     "output_type": "stream",
     "text": [
      "OP0012_B1 has no bads.\n"
     ]
    },
    {
     "name": "stderr",
     "output_type": "stream",
     "text": [
      "<ipython-input-4-2277aa4d0b17>:10: RuntimeWarning: This filename (/home/kfsh/data/eeg/OP0013/OP0013_B1/OP0013_B1_ica.fif) does not conform to MNE naming conventions. All raw files should end with raw.fif, raw_sss.fif, raw_tsss.fif, raw.fif.gz, raw_sss.fif.gz, raw_tsss.fif.gz or _meg.fif\n",
      "  icas[subj] = mne.io.read_raw_fif(ica_path,preload=True,verbose=False)\n"
     ]
    },
    {
     "name": "stdout",
     "output_type": "stream",
     "text": [
      "OP0013_B1 has no bads.\n"
     ]
    },
    {
     "name": "stderr",
     "output_type": "stream",
     "text": [
      "<ipython-input-4-2277aa4d0b17>:10: RuntimeWarning: This filename (/home/kfsh/data/eeg/OP0014/OP0014_B1/OP0014_B1_ica.fif) does not conform to MNE naming conventions. All raw files should end with raw.fif, raw_sss.fif, raw_tsss.fif, raw.fif.gz, raw_sss.fif.gz, raw_tsss.fif.gz or _meg.fif\n",
      "  icas[subj] = mne.io.read_raw_fif(ica_path,preload=True,verbose=False)\n"
     ]
    },
    {
     "name": "stdout",
     "output_type": "stream",
     "text": [
      "Interpolating ['Fp2']\n"
     ]
    },
    {
     "name": "stderr",
     "output_type": "stream",
     "text": [
      "/home/kfsh/git/onsetProd/gkTools/preprocessing/preprocessing.py:173: RuntimeWarning: Estimated head size (78213.3 mm) exceeded 99th percentile for adult head size\n",
      "  raw.interpolate_bads()\n",
      "/home/kfsh/git/onsetProd/gkTools/preprocessing/preprocessing.py:173: RuntimeWarning: (X, Y) fit (0.0, -927.6) more than 20 mm from head frame origin\n",
      "  raw.interpolate_bads()\n",
      "<ipython-input-4-2277aa4d0b17>:10: RuntimeWarning: This filename (/home/kfsh/data/eeg/OP0015/OP0015_B1/OP0015_B1_ica.fif) does not conform to MNE naming conventions. All raw files should end with raw.fif, raw_sss.fif, raw_tsss.fif, raw.fif.gz, raw_sss.fif.gz, raw_tsss.fif.gz or _meg.fif\n",
      "  icas[subj] = mne.io.read_raw_fif(ica_path,preload=True,verbose=False)\n"
     ]
    },
    {
     "name": "stdout",
     "output_type": "stream",
     "text": [
      "Interpolating ['AF8']\n"
     ]
    },
    {
     "name": "stderr",
     "output_type": "stream",
     "text": [
      "/home/kfsh/git/onsetProd/gkTools/preprocessing/preprocessing.py:173: RuntimeWarning: Estimated head size (75565.9 mm) exceeded 99th percentile for adult head size\n",
      "  raw.interpolate_bads()\n",
      "/home/kfsh/git/onsetProd/gkTools/preprocessing/preprocessing.py:173: RuntimeWarning: (X, Y) fit (-0.0, -1364.0) more than 20 mm from head frame origin\n",
      "  raw.interpolate_bads()\n",
      "<ipython-input-4-2277aa4d0b17>:10: RuntimeWarning: This filename (/home/kfsh/data/eeg/OP0016/OP0016_B1/OP0016_B1_ica.fif) does not conform to MNE naming conventions. All raw files should end with raw.fif, raw_sss.fif, raw_tsss.fif, raw.fif.gz, raw_sss.fif.gz, raw_tsss.fif.gz or _meg.fif\n",
      "  icas[subj] = mne.io.read_raw_fif(ica_path,preload=True,verbose=False)\n"
     ]
    },
    {
     "name": "stdout",
     "output_type": "stream",
     "text": [
      "Interpolating ['P5', 'T8', 'FC5', 'FT7']\n"
     ]
    },
    {
     "name": "stderr",
     "output_type": "stream",
     "text": [
      "/home/kfsh/git/onsetProd/gkTools/preprocessing/preprocessing.py:173: RuntimeWarning: Estimated head size (75565.9 mm) exceeded 99th percentile for adult head size\n",
      "  raw.interpolate_bads()\n",
      "/home/kfsh/git/onsetProd/gkTools/preprocessing/preprocessing.py:173: RuntimeWarning: (X, Y) fit (-0.0, -1364.0) more than 20 mm from head frame origin\n",
      "  raw.interpolate_bads()\n",
      "<ipython-input-4-2277aa4d0b17>:10: RuntimeWarning: This filename (/home/kfsh/data/eeg/OP0017/OP0017_B1/OP0017_B1_ica.fif) does not conform to MNE naming conventions. All raw files should end with raw.fif, raw_sss.fif, raw_tsss.fif, raw.fif.gz, raw_sss.fif.gz, raw_tsss.fif.gz or _meg.fif\n",
      "  icas[subj] = mne.io.read_raw_fif(ica_path,preload=True,verbose=False)\n"
     ]
    },
    {
     "name": "stdout",
     "output_type": "stream",
     "text": [
      "Interpolating ['FT7', 'TP9']\n"
     ]
    },
    {
     "name": "stderr",
     "output_type": "stream",
     "text": [
      "/home/kfsh/git/onsetProd/gkTools/preprocessing/preprocessing.py:173: RuntimeWarning: Estimated head size (75565.9 mm) exceeded 99th percentile for adult head size\n",
      "  raw.interpolate_bads()\n",
      "/home/kfsh/git/onsetProd/gkTools/preprocessing/preprocessing.py:173: RuntimeWarning: (X, Y) fit (-0.0, -1364.0) more than 20 mm from head frame origin\n",
      "  raw.interpolate_bads()\n",
      "<ipython-input-4-2277aa4d0b17>:10: RuntimeWarning: This filename (/home/kfsh/data/eeg/OP0018/OP0018_B1/OP0018_B1_ica.fif) does not conform to MNE naming conventions. All raw files should end with raw.fif, raw_sss.fif, raw_tsss.fif, raw.fif.gz, raw_sss.fif.gz, raw_tsss.fif.gz or _meg.fif\n",
      "  icas[subj] = mne.io.read_raw_fif(ica_path,preload=True,verbose=False)\n"
     ]
    },
    {
     "name": "stdout",
     "output_type": "stream",
     "text": [
      "OP0018_B1 has no bads.\n"
     ]
    },
    {
     "name": "stderr",
     "output_type": "stream",
     "text": [
      "<ipython-input-4-2277aa4d0b17>:10: RuntimeWarning: This filename (/home/kfsh/data/eeg/OP0019/OP0019_B1/OP0019_B1_ica.fif) does not conform to MNE naming conventions. All raw files should end with raw.fif, raw_sss.fif, raw_tsss.fif, raw.fif.gz, raw_sss.fif.gz, raw_tsss.fif.gz or _meg.fif\n",
      "  icas[subj] = mne.io.read_raw_fif(ica_path,preload=True,verbose=False)\n"
     ]
    },
    {
     "name": "stdout",
     "output_type": "stream",
     "text": [
      "Interpolating ['C5']\n"
     ]
    },
    {
     "name": "stderr",
     "output_type": "stream",
     "text": [
      "/home/kfsh/git/onsetProd/gkTools/preprocessing/preprocessing.py:173: RuntimeWarning: Estimated head size (75565.9 mm) exceeded 99th percentile for adult head size\n",
      "  raw.interpolate_bads()\n",
      "/home/kfsh/git/onsetProd/gkTools/preprocessing/preprocessing.py:173: RuntimeWarning: (X, Y) fit (-0.0, -1364.0) more than 20 mm from head frame origin\n",
      "  raw.interpolate_bads()\n",
      "<ipython-input-4-2277aa4d0b17>:10: RuntimeWarning: This filename (/home/kfsh/data/eeg/OP0021/OP0021_B1/OP0021_B1_ica.fif) does not conform to MNE naming conventions. All raw files should end with raw.fif, raw_sss.fif, raw_tsss.fif, raw.fif.gz, raw_sss.fif.gz, raw_tsss.fif.gz or _meg.fif\n",
      "  icas[subj] = mne.io.read_raw_fif(ica_path,preload=True,verbose=False)\n"
     ]
    },
    {
     "name": "stdout",
     "output_type": "stream",
     "text": [
      "OP0021_B1 has no bads.\n"
     ]
    }
   ],
   "source": [
    "# Load ica data for click stuff\n",
    "icas = dict()\n",
    "for subj in subjs:\n",
    "    blocks = eeg.find_blocks(subj,data_path,mode='eeg')\n",
    "    for block in blocks:\n",
    "        blockid = subj + '_' + block\n",
    "        if blockid not in ['OP0002_B1','OP0015_B2','OP0016_B2']: # these don't exist\n",
    "            # get raw\n",
    "            ica_path = '%seeg/%s/%s/%s_ica.fif' % (data_path,subj,blockid,blockid)\n",
    "            icas[subj] = mne.io.read_raw_fif(ica_path,preload=True,verbose=False)\n",
    "            icas[subj].filter(l_freq=1,h_freq=15,verbose=False)\n",
    "            # find bad channels and interpolate them so that each subj has 64 chans\n",
    "            icas[subj] = eeg.interpolate_bads(subj,block,icas[subj],git_path,data_path)"
   ]
  },
  {
   "cell_type": "code",
   "execution_count": 5,
   "metadata": {
    "scrolled": true
   },
   "outputs": [
    {
     "name": "stderr",
     "output_type": "stream",
     "text": [
      "/home/kfsh/git/onsetProd/gkTools/preprocessing/preprocessing.py:181: RuntimeWarning: This filename (/home/kfsh/data/eeg/OP0003/OP0003_B1/OP0003_B1_downsampled_with_annotations.fif) does not conform to MNE naming conventions. All raw files should end with raw.fif, raw_sss.fif, raw_tsss.fif, raw.fif.gz, raw_sss.fif.gz, raw_tsss.fif.gz or _meg.fif\n",
      "  pre_cca_raw_path,preload=True,verbose=False)\n"
     ]
    },
    {
     "name": "stdout",
     "output_type": "stream",
     "text": [
      "OP0003_B1 CCA BADS:  OP0003_B1 ['T8', 'FC5']\n",
      "OP0003_B1 PRE CCA BADS:  ['FC5', 'T8']\n",
      "Creating RawArray with float64 data, n_channels=64, n_times=516307\n",
      "    Range : 0 ... 516306 =      0.000 ...  4033.382 secs\n",
      "Ready.\n",
      "    Automatic origin fit: head of radius 85.0 mm\n",
      "Computing interpolation matrix from 62 sensor positions\n",
      "Interpolating 2 sensors\n"
     ]
    },
    {
     "name": "stderr",
     "output_type": "stream",
     "text": [
      "/home/kfsh/git/onsetProd/gkTools/preprocessing/preprocessing.py:181: RuntimeWarning: This filename (/home/kfsh/data/eeg/OP0005/OP0005_B1/OP0005_B1_downsampled_with_annotations.fif) does not conform to MNE naming conventions. All raw files should end with raw.fif, raw_sss.fif, raw_tsss.fif, raw.fif.gz, raw_sss.fif.gz, raw_tsss.fif.gz or _meg.fif\n",
      "  pre_cca_raw_path,preload=True,verbose=False)\n"
     ]
    },
    {
     "name": "stdout",
     "output_type": "stream",
     "text": [
      "OP0005_B1 CCA BADS:  OP0005_B1 ['FT7']\n",
      "OP0005_B1 PRE CCA BADS:  ['FT7']\n",
      "Creating RawArray with float64 data, n_channels=64, n_times=409081\n",
      "    Range : 0 ... 409080 =      0.000 ...  3195.733 secs\n",
      "Ready.\n",
      "    Automatic origin fit: head of radius 85.0 mm\n",
      "Computing interpolation matrix from 63 sensor positions\n",
      "Interpolating 1 sensors\n",
      "OP0006_B1 has no bads.\n"
     ]
    },
    {
     "name": "stderr",
     "output_type": "stream",
     "text": [
      "/home/kfsh/git/onsetProd/gkTools/preprocessing/preprocessing.py:181: RuntimeWarning: This filename (/home/kfsh/data/eeg/OP0007/OP0007_B1/OP0007_B1_downsampled_with_annotations.fif) does not conform to MNE naming conventions. All raw files should end with raw.fif, raw_sss.fif, raw_tsss.fif, raw.fif.gz, raw_sss.fif.gz, raw_tsss.fif.gz or _meg.fif\n",
      "  pre_cca_raw_path,preload=True,verbose=False)\n"
     ]
    },
    {
     "name": "stdout",
     "output_type": "stream",
     "text": [
      "OP0007_B1 CCA BADS:  OP0007_B1 ['FT9']\n",
      "OP0007_B1 PRE CCA BADS:  ['FT9']\n",
      "Creating RawArray with float64 data, n_channels=64, n_times=478278\n",
      "    Range : 0 ... 478277 =      0.000 ...  3736.300 secs\n",
      "Ready.\n",
      "    Automatic origin fit: head of radius 85.0 mm\n",
      "Computing interpolation matrix from 63 sensor positions\n",
      "Interpolating 1 sensors\n",
      "OP0008_B1 has no bads.\n",
      "OP0009_B1 has no bads.\n"
     ]
    },
    {
     "name": "stderr",
     "output_type": "stream",
     "text": [
      "/home/kfsh/git/onsetProd/gkTools/preprocessing/preprocessing.py:181: RuntimeWarning: This filename (/home/kfsh/data/eeg/OP0010/OP0010_B1/OP0010_B1_downsampled_with_annotations.fif) does not conform to MNE naming conventions. All raw files should end with raw.fif, raw_sss.fif, raw_tsss.fif, raw.fif.gz, raw_sss.fif.gz, raw_tsss.fif.gz or _meg.fif\n",
      "  pre_cca_raw_path,preload=True,verbose=False)\n"
     ]
    },
    {
     "name": "stdout",
     "output_type": "stream",
     "text": [
      "OP0010_B1 CCA BADS:  OP0010_B1 ['PO7']\n",
      "OP0010_B1 PRE CCA BADS:  ['PO7']\n",
      "Creating RawArray with float64 data, n_channels=64, n_times=429331\n",
      "    Range : 0 ... 429330 =      0.000 ...  3353.926 secs\n",
      "Ready.\n",
      "    Automatic origin fit: head of radius 85.0 mm\n",
      "Computing interpolation matrix from 63 sensor positions\n",
      "Interpolating 1 sensors\n",
      "Interpolating ['Cz']\n",
      "OP0012_B1 has no bads.\n",
      "OP0013_B1 has no bads.\n"
     ]
    },
    {
     "name": "stderr",
     "output_type": "stream",
     "text": [
      "/home/kfsh/git/onsetProd/gkTools/preprocessing/preprocessing.py:181: RuntimeWarning: This filename (/home/kfsh/data/eeg/OP0014/OP0014_B1/OP0014_B1_downsampled_with_annotations.fif) does not conform to MNE naming conventions. All raw files should end with raw.fif, raw_sss.fif, raw_tsss.fif, raw.fif.gz, raw_sss.fif.gz, raw_tsss.fif.gz or _meg.fif\n",
      "  pre_cca_raw_path,preload=True,verbose=False)\n"
     ]
    },
    {
     "name": "stdout",
     "output_type": "stream",
     "text": [
      "OP0014_B1 CCA BADS:  OP0014_B1 ['Fp2']\n",
      "OP0014_B1 PRE CCA BADS:  ['Fp2']\n",
      "Creating RawArray with float64 data, n_channels=64, n_times=510419\n",
      "    Range : 0 ... 510418 =      0.000 ...  3987.385 secs\n",
      "Ready.\n",
      "    Automatic origin fit: head of radius 85.0 mm\n",
      "Computing interpolation matrix from 63 sensor positions\n",
      "Interpolating 1 sensors\n"
     ]
    },
    {
     "name": "stderr",
     "output_type": "stream",
     "text": [
      "/home/kfsh/git/onsetProd/gkTools/preprocessing/preprocessing.py:181: RuntimeWarning: This filename (/home/kfsh/data/eeg/OP0015/OP0015_B1/OP0015_B1_downsampled_with_annotations.fif) does not conform to MNE naming conventions. All raw files should end with raw.fif, raw_sss.fif, raw_tsss.fif, raw.fif.gz, raw_sss.fif.gz, raw_tsss.fif.gz or _meg.fif\n",
      "  pre_cca_raw_path,preload=True,verbose=False)\n"
     ]
    },
    {
     "name": "stdout",
     "output_type": "stream",
     "text": [
      "OP0015_B1 CCA BADS:  OP0015_B1 ['AF8']\n",
      "OP0015_B1 PRE CCA BADS:  ['AF8']\n",
      "Creating RawArray with float64 data, n_channels=64, n_times=358872\n",
      "    Range : 0 ... 358871 =      0.000 ...  2803.500 secs\n",
      "Ready.\n",
      "    Automatic origin fit: head of radius 85.0 mm\n",
      "Computing interpolation matrix from 63 sensor positions\n",
      "Interpolating 1 sensors\n"
     ]
    },
    {
     "name": "stderr",
     "output_type": "stream",
     "text": [
      "/home/kfsh/git/onsetProd/gkTools/preprocessing/preprocessing.py:181: RuntimeWarning: This filename (/home/kfsh/data/eeg/OP0016/OP0016_B1/OP0016_B1_downsampled_with_annotations.fif) does not conform to MNE naming conventions. All raw files should end with raw.fif, raw_sss.fif, raw_tsss.fif, raw.fif.gz, raw_sss.fif.gz, raw_tsss.fif.gz or _meg.fif\n",
      "  pre_cca_raw_path,preload=True,verbose=False)\n"
     ]
    },
    {
     "name": "stdout",
     "output_type": "stream",
     "text": [
      "OP0016_B1 CCA BADS:  OP0016_B1 ['P5', 'T8', 'FC5', 'FT7']\n",
      "OP0016_B1 PRE CCA BADS:  ['T8', 'P5', 'FC5', 'FT7']\n",
      "Creating RawArray with float64 data, n_channels=64, n_times=522687\n",
      "    Range : 0 ... 522686 =      0.000 ...  4083.223 secs\n",
      "Ready.\n",
      "    Automatic origin fit: head of radius 85.0 mm\n",
      "Computing interpolation matrix from 60 sensor positions\n",
      "Interpolating 4 sensors\n"
     ]
    },
    {
     "name": "stderr",
     "output_type": "stream",
     "text": [
      "/home/kfsh/git/onsetProd/gkTools/preprocessing/preprocessing.py:181: RuntimeWarning: This filename (/home/kfsh/data/eeg/OP0017/OP0017_B1/OP0017_B1_downsampled_with_annotations.fif) does not conform to MNE naming conventions. All raw files should end with raw.fif, raw_sss.fif, raw_tsss.fif, raw.fif.gz, raw_sss.fif.gz, raw_tsss.fif.gz or _meg.fif\n",
      "  pre_cca_raw_path,preload=True,verbose=False)\n"
     ]
    },
    {
     "name": "stdout",
     "output_type": "stream",
     "text": [
      "OP0017_B1 CCA BADS:  OP0017_B1 ['FT7', 'TP9']\n",
      "OP0017_B1 PRE CCA BADS:  ['FT7', 'TP9']\n",
      "Creating RawArray with float64 data, n_channels=64, n_times=432083\n",
      "    Range : 0 ... 432082 =      0.000 ...  3375.425 secs\n",
      "Ready.\n",
      "    Automatic origin fit: head of radius 85.0 mm\n",
      "Computing interpolation matrix from 62 sensor positions\n",
      "Interpolating 2 sensors\n",
      "OP0018_B1 has no bads.\n"
     ]
    },
    {
     "name": "stderr",
     "output_type": "stream",
     "text": [
      "/home/kfsh/git/onsetProd/gkTools/preprocessing/preprocessing.py:181: RuntimeWarning: This filename (/home/kfsh/data/eeg/OP0019/OP0019_B1/OP0019_B1_downsampled_with_annotations.fif) does not conform to MNE naming conventions. All raw files should end with raw.fif, raw_sss.fif, raw_tsss.fif, raw.fif.gz, raw_sss.fif.gz, raw_tsss.fif.gz or _meg.fif\n",
      "  pre_cca_raw_path,preload=True,verbose=False)\n"
     ]
    },
    {
     "name": "stdout",
     "output_type": "stream",
     "text": [
      "OP0019_B1 CCA BADS:  OP0019_B1 ['C5']\n",
      "OP0019_B1 PRE CCA BADS:  ['C5']\n",
      "Creating RawArray with float64 data, n_channels=64, n_times=393952\n",
      "    Range : 0 ... 393951 =      0.000 ...  3077.545 secs\n",
      "Ready.\n",
      "    Automatic origin fit: head of radius 85.0 mm\n",
      "Computing interpolation matrix from 63 sensor positions\n",
      "Interpolating 1 sensors\n",
      "OP0021_B1 has no bads.\n"
     ]
    }
   ],
   "source": [
    "# Load ccad data\n",
    "ccas = dict()\n",
    "for subj in subjs:\n",
    "    blocks = eeg.find_blocks(subj,data_path,mode='eeg')\n",
    "    for block in blocks:\n",
    "        blockid = subj + '_' + block\n",
    "        if blockid not in ['OP0002_B1','OP0015_B2','OP0016_B2']: # these don't exist\n",
    "            # get raw\n",
    "            cca_path = '%seeg/%s/%s/%s_cca.vhdr' % (data_path,subj,blockid,blockid)\n",
    "            ccas[subj] = mne.io.read_raw_brainvision(cca_path,preload=True,verbose=False)\n",
    "            ccas[subj].filter(l_freq=1,h_freq=15,verbose=False)\n",
    "            # find bad channels and interpolate them so that each subj has 64 chans\n",
    "            ccas[subj] = eeg.interpolate_bads(subj,block,ccas[subj],git_path,data_path)"
   ]
  },
  {
   "cell_type": "markdown",
   "metadata": {},
   "source": [
    "## Epochs"
   ]
  },
  {
   "cell_type": "code",
   "execution_count": 36,
   "metadata": {
    "scrolled": true
   },
   "outputs": [
    {
     "name": "stdout",
     "output_type": "stream",
     "text": [
      "OP0003\n",
      "190 matching events found\n",
      "Applying baseline correction (mode: mean)\n",
      "Not setting metadata\n",
      "Loading data for 190 events and 91 original time points ...\n",
      "1 bad epochs dropped\n",
      "190 matching events found\n",
      "Applying baseline correction (mode: mean)\n",
      "Not setting metadata\n",
      "Loading data for 190 events and 91 original time points ...\n",
      "1 bad epochs dropped\n",
      "OP0005\n",
      "148 matching events found\n",
      "Applying baseline correction (mode: mean)\n",
      "Not setting metadata\n",
      "Loading data for 148 events and 91 original time points ...\n",
      "0 bad epochs dropped\n",
      "148 matching events found\n",
      "Applying baseline correction (mode: mean)\n",
      "Not setting metadata\n",
      "Loading data for 148 events and 91 original time points ...\n",
      "0 bad epochs dropped\n",
      "OP0006\n",
      "185 matching events found\n",
      "Applying baseline correction (mode: mean)\n",
      "Not setting metadata\n",
      "Loading data for 185 events and 91 original time points ...\n",
      "0 bad epochs dropped\n",
      "185 matching events found\n",
      "Applying baseline correction (mode: mean)\n",
      "Not setting metadata\n",
      "Loading data for 185 events and 91 original time points ...\n",
      "0 bad epochs dropped\n",
      "OP0007\n",
      "311 matching events found\n",
      "Applying baseline correction (mode: mean)\n",
      "Not setting metadata\n",
      "Loading data for 311 events and 91 original time points ...\n",
      "0 bad epochs dropped\n",
      "311 matching events found\n",
      "Applying baseline correction (mode: mean)\n",
      "Not setting metadata\n",
      "Loading data for 311 events and 91 original time points ...\n",
      "0 bad epochs dropped\n",
      "OP0008\n",
      "58 matching events found\n",
      "Applying baseline correction (mode: mean)\n",
      "Not setting metadata\n",
      "Loading data for 58 events and 91 original time points ...\n",
      "0 bad epochs dropped\n",
      "58 matching events found\n",
      "Applying baseline correction (mode: mean)\n",
      "Not setting metadata\n",
      "Loading data for 58 events and 91 original time points ...\n",
      "0 bad epochs dropped\n",
      "OP0009\n",
      "1750 matching events found\n",
      "Applying baseline correction (mode: mean)\n",
      "Not setting metadata\n",
      "Loading data for 1750 events and 91 original time points ...\n",
      "0 bad epochs dropped\n",
      "1750 matching events found\n",
      "Applying baseline correction (mode: mean)\n",
      "Not setting metadata\n",
      "Loading data for 1750 events and 91 original time points ...\n",
      "0 bad epochs dropped\n",
      "OP0010\n",
      "822 matching events found\n",
      "Applying baseline correction (mode: mean)\n",
      "Not setting metadata\n",
      "Loading data for 822 events and 91 original time points ...\n",
      "0 bad epochs dropped\n",
      "822 matching events found\n",
      "Applying baseline correction (mode: mean)\n",
      "Not setting metadata\n",
      "Loading data for 822 events and 91 original time points ...\n",
      "0 bad epochs dropped\n",
      "OP0011\n",
      "16 matching events found\n",
      "Applying baseline correction (mode: mean)\n",
      "Not setting metadata\n",
      "Loading data for 16 events and 91 original time points ...\n",
      "2 bad epochs dropped\n",
      "16 matching events found\n",
      "Applying baseline correction (mode: mean)\n",
      "Not setting metadata\n",
      "Loading data for 16 events and 91 original time points ...\n",
      "2 bad epochs dropped\n",
      "OP0012\n",
      "39 matching events found\n",
      "Applying baseline correction (mode: mean)\n",
      "Not setting metadata\n",
      "Loading data for 39 events and 91 original time points ...\n",
      "2 bad epochs dropped\n",
      "39 matching events found\n",
      "Applying baseline correction (mode: mean)\n",
      "Not setting metadata\n",
      "Loading data for 39 events and 91 original time points ...\n",
      "2 bad epochs dropped\n",
      "OP0013\n",
      "277 matching events found\n",
      "Applying baseline correction (mode: mean)\n",
      "Not setting metadata\n",
      "Loading data for 277 events and 91 original time points ...\n",
      "0 bad epochs dropped\n",
      "277 matching events found\n",
      "Applying baseline correction (mode: mean)\n",
      "Not setting metadata\n",
      "Loading data for 277 events and 91 original time points ...\n",
      "0 bad epochs dropped\n",
      "OP0014\n",
      "62 matching events found\n",
      "Applying baseline correction (mode: mean)\n",
      "Not setting metadata\n",
      "Loading data for 62 events and 91 original time points ...\n",
      "2 bad epochs dropped\n",
      "62 matching events found\n",
      "Applying baseline correction (mode: mean)\n",
      "Not setting metadata\n",
      "Loading data for 62 events and 91 original time points ...\n",
      "2 bad epochs dropped\n",
      "OP0015\n",
      "129 matching events found\n",
      "Applying baseline correction (mode: mean)\n",
      "Not setting metadata\n",
      "Loading data for 129 events and 91 original time points ...\n",
      "1 bad epochs dropped\n",
      "129 matching events found\n",
      "Applying baseline correction (mode: mean)\n",
      "Not setting metadata\n",
      "Loading data for 129 events and 91 original time points ...\n",
      "1 bad epochs dropped\n",
      "OP0016\n",
      "102 matching events found\n",
      "Applying baseline correction (mode: mean)\n",
      "Not setting metadata\n",
      "Loading data for 102 events and 91 original time points ...\n",
      "1 bad epochs dropped\n",
      "102 matching events found\n",
      "Applying baseline correction (mode: mean)\n",
      "Not setting metadata\n",
      "Loading data for 102 events and 91 original time points ...\n",
      "0 bad epochs dropped\n",
      "OP0017\n",
      "50 matching events found\n",
      "Applying baseline correction (mode: mean)\n",
      "Not setting metadata\n",
      "Loading data for 50 events and 91 original time points ...\n",
      "1 bad epochs dropped\n",
      "50 matching events found\n",
      "Applying baseline correction (mode: mean)\n",
      "Not setting metadata\n",
      "Loading data for 50 events and 91 original time points ...\n",
      "1 bad epochs dropped\n",
      "OP0018\n",
      "66 matching events found\n",
      "Applying baseline correction (mode: mean)\n",
      "Not setting metadata\n",
      "Loading data for 66 events and 91 original time points ...\n",
      "0 bad epochs dropped\n",
      "66 matching events found\n",
      "Applying baseline correction (mode: mean)\n",
      "Not setting metadata\n",
      "Loading data for 66 events and 91 original time points ...\n",
      "0 bad epochs dropped\n",
      "OP0019\n",
      "255 matching events found\n",
      "Applying baseline correction (mode: mean)\n",
      "Not setting metadata\n",
      "Loading data for 255 events and 91 original time points ...\n",
      "0 bad epochs dropped\n",
      "255 matching events found\n",
      "Applying baseline correction (mode: mean)\n",
      "Not setting metadata\n",
      "Loading data for 255 events and 91 original time points ...\n",
      "0 bad epochs dropped\n",
      "OP0021\n",
      "2 matching events found\n",
      "Applying baseline correction (mode: mean)\n",
      "Not setting metadata\n",
      "Loading data for 2 events and 91 original time points ...\n",
      "0 bad epochs dropped\n",
      "2 matching events found\n",
      "Applying baseline correction (mode: mean)\n",
      "Not setting metadata\n",
      "Loading data for 2 events and 91 original time points ...\n",
      "0 bad epochs dropped\n"
     ]
    }
   ],
   "source": [
    "# EMG epochs\n",
    "raw_emg, ica_emg, cca_emg = dict(),dict(),dict()\n",
    "reject=None\n",
    "for subj in subjs:\n",
    "    print(subj)\n",
    "    events = mne.preprocessing.find_eog_events(raws[subj],ch_name='hEOG',verbose=False,l_freq=1,h_freq=30)\n",
    "    # raw\n",
    "    epochs = mne.Epochs(raws[subj],events,tmin=tmin,tmax=tmax,reject=reject,\n",
    "                        verbose=True,reject_by_annotation=False,proj=False,flat=None)\n",
    "    raw_emg[subj] = epochs.get_data(picks=picks)\n",
    "    # ica\n",
    "    epochs = mne.Epochs(icas[subj],events,tmin=tmin,tmax=tmax,reject=reject,\n",
    "                        verbose=False,reject_by_annotation=False,proj=False,flat=None)\n",
    "    ica_emg[subj] = epochs.get_data(picks=picks)\n",
    "    # cca\n",
    "    epochs = mne.Epochs(ccas[subj],events,tmin=tmin,tmax=tmax,reject=reject,\n",
    "                        verbose=True,reject_by_annotation=False,proj=False,flat=None)\n",
    "    cca_emg[subj] = epochs.get_data(picks=picks)\n",
    "    if subj in ['OP0016']: # cut off last epoch\n",
    "        cca_emg[subj] = cca_emg[subj][:-1,:,:]"
   ]
  },
  {
   "cell_type": "code",
   "execution_count": 37,
   "metadata": {},
   "outputs": [
    {
     "data": {
      "text/plain": [
       "(128, 9, 91)"
      ]
     },
     "execution_count": 37,
     "metadata": {},
     "output_type": "execute_result"
    }
   ],
   "source": [
    "raw_emg['OP0015'].shape"
   ]
  },
  {
   "cell_type": "code",
   "execution_count": 38,
   "metadata": {},
   "outputs": [
    {
     "data": {
      "text/plain": [
       "(128, 9, 91)"
      ]
     },
     "execution_count": 38,
     "metadata": {},
     "output_type": "execute_result"
    }
   ],
   "source": [
    "cca_emg['OP0015'].shape"
   ]
  },
  {
   "cell_type": "code",
   "execution_count": 39,
   "metadata": {},
   "outputs": [],
   "source": [
    "# Sen epochs\n",
    "raw_sen, ica_sen, cca_sen = dict(),dict(),dict()\n",
    "for subj in subjs:\n",
    "    click_event_file = git_path + '/onsetProd/eeg/eventfiles/%s/%s_B1/%s_B1_click_eve.txt' % (\n",
    "        subj,subj,subj)\n",
    "    evs = np.loadtxt(click_event_file,dtype='f',usecols=(0,1,2))\n",
    "    evs[:,:2] = evs[:,:2]*128\n",
    "    events = np.array(evs,dtype=np.int)\n",
    "    # raw\n",
    "    epochs = mne.Epochs(raws[subj],events,tmin=tmin,tmax=tmax,reject=reject,verbose=False)\n",
    "    raw_sen[subj] = epochs.get_data(picks=picks)\n",
    "    # ica\n",
    "    epochs = mne.Epochs(icas[subj],events,tmin=tmin,tmax=tmax,reject=reject,verbose=False)\n",
    "    ica_sen[subj] = epochs.get_data(picks=picks)\n",
    "    # cca\n",
    "    epochs = mne.Epochs(ccas[subj],events,tmin=tmin,tmax=tmax,reject=reject,verbose=False)\n",
    "    cca_sen[subj] = epochs.get_data(picks=picks)"
   ]
  },
  {
   "cell_type": "code",
   "execution_count": 40,
   "metadata": {},
   "outputs": [],
   "source": [
    "# Click epochs\n",
    "raw_click, ica_click, cca_click = dict(),dict(),dict()\n",
    "for subj in subjs:\n",
    "    event_file = eeg.get_event_file(subj,'B1','mic','sentence','all',git_path)\n",
    "    this_event = []\n",
    "    with open(event_file,'r') as f:\n",
    "        r = csv.reader(f,delimiter='\\t')\n",
    "        for row in r:\n",
    "            this_event.append(row[:3])\n",
    "    event_samples = np.array(this_event,dtype=np.float)\n",
    "    event_samples[:,:2] = np.round(event_samples[:,:2]*128)\n",
    "    events = event_samples.astype(np.int)\n",
    "    # raw\n",
    "    epochs = mne.Epochs(raws[subj],events,tmin=tmin,tmax=tmax,reject=reject,verbose=False)\n",
    "    raw_click[subj] = epochs.get_data(picks=picks)\n",
    "    # ica\n",
    "    epochs = mne.Epochs(icas[subj],events,tmin=tmin,tmax=tmax,reject=reject,verbose=False)\n",
    "    ica_click[subj] = epochs.get_data(picks=picks)\n",
    "    # cca\n",
    "    epochs = mne.Epochs(ccas[subj],events,tmin=tmin,tmax=tmax,reject=reject,verbose=False)\n",
    "    cca_click[subj] = epochs.get_data(picks=picks)"
   ]
  },
  {
   "cell_type": "code",
   "execution_count": 41,
   "metadata": {},
   "outputs": [],
   "source": [
    "# convert to RMS\n",
    "# Average across channels\n",
    "re_rms, ce_rms, rs_rms, cs_rms, ic_rms, cc_rms = dict(), dict(), dict(), dict(), dict(), dict()\n",
    "for subj in subjs:\n",
    "    re_rms[subj] = np.sqrt((raw_emg[subj].mean(1)/1e-6)**2)\n",
    "    ce_rms[subj] = np.sqrt((cca_emg[subj].mean(1)/1e-6)**2)\n",
    "    rs_rms[subj] = np.sqrt((raw_sen[subj].mean(1)/1e-6)**2)\n",
    "    cs_rms[subj] = np.sqrt((cca_sen[subj].mean(1)/1e-6)**2)\n",
    "    ic_rms[subj] = np.sqrt((ica_click[subj].mean(1)/1e-6)**2)\n",
    "    cc_rms[subj] = np.sqrt((cca_click[subj].mean(1)/1e-6)**2)"
   ]
  },
  {
   "cell_type": "code",
   "execution_count": 43,
   "metadata": {},
   "outputs": [
    {
     "name": "stdout",
     "output_type": "stream",
     "text": [
      "OP0003 189 189\n",
      "OP0005 148 148\n",
      "OP0006 185 185\n",
      "OP0007 311 311\n",
      "OP0008 58 58\n",
      "OP0009 1750 1750\n",
      "OP0010 822 822\n",
      "OP0011 14 14\n",
      "OP0012 37 37\n",
      "OP0013 277 277\n",
      "OP0014 60 60\n",
      "OP0015 128 128\n",
      "OP0016 101 101\n",
      "OP0017 49 49\n",
      "OP0018 66 66\n",
      "OP0019 255 255\n",
      "OP0021 2 2\n"
     ]
    }
   ],
   "source": [
    "for subj in subjs:\n",
    "    print(subj, re_rms[subj].shape[0], ce_rms[subj].shape[0])"
   ]
  },
  {
   "cell_type": "code",
   "execution_count": 44,
   "metadata": {},
   "outputs": [],
   "source": [
    "# difference waves for click and emg pre/post cca\n",
    "click_dw,sen_dw,emg_dw = dict(),dict(),dict()\n",
    "for subj in subjs:\n",
    "    click_dw[subj] = (ic_rms[subj] - cc_rms[subj]).mean(1)\n",
    "    sen_dw[subj] = (rs_rms[subj] - cs_rms[subj]).mean(1)\n",
    "    emg_dw[subj] = (re_rms[subj] - ce_rms[subj]).mean(1)"
   ]
  },
  {
   "cell_type": "code",
   "execution_count": 46,
   "metadata": {},
   "outputs": [],
   "source": [
    "## Make diff wave csv\n",
    "csvheader = [['Subject','Epoch_type','Mean_diff','Epoch']]\n",
    "csv_fname = '/home/kfsh/git/onsetProd/results/stats/lmem_dwemg_paper.csv'\n",
    "for subj in subjs:\n",
    "    for i,epoch in enumerate(click_dw[subj]):\n",
    "        csvheader.append([subj,'click',epoch,i])\n",
    "    for i,epoch in enumerate(sen_dw[subj]):\n",
    "        csvheader.append([subj,'sen',epoch,i])\n",
    "    for i,epoch in enumerate(emg_dw[subj]):\n",
    "        csvheader.append([subj,'emg',epoch,i])\n",
    "with open(csv_fname,'w+') as my_csv:\n",
    "    csvWriter = csv.writer(my_csv,delimiter=',')\n",
    "    csvWriter.writerows(csvheader)"
   ]
  }
 ],
 "metadata": {
  "kernelspec": {
   "display_name": "Python 3",
   "language": "python",
   "name": "python3"
  },
  "language_info": {
   "codemirror_mode": {
    "name": "ipython",
    "version": 3
   },
   "file_extension": ".py",
   "mimetype": "text/x-python",
   "name": "python",
   "nbconvert_exporter": "python",
   "pygments_lexer": "ipython3",
   "version": "3.8.5"
  }
 },
 "nbformat": 4,
 "nbformat_minor": 4
}
