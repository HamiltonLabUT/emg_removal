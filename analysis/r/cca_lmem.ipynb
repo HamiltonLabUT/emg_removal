{
 "cells": [
  {
   "cell_type": "code",
   "execution_count": 1,
   "metadata": {
    "scrolled": true
   },
   "outputs": [
    {
     "name": "stderr",
     "output_type": "stream",
     "text": [
      "Loading required package: lme4\n",
      "\n",
      "Loading required package: Matrix\n",
      "\n",
      "Registered S3 methods overwritten by 'ggplot2':\n",
      "  method         from \n",
      "  [.quosures     rlang\n",
      "  c.quosures     rlang\n",
      "  print.quosures rlang\n",
      "\n",
      "\n",
      "Attaching package: ‘lmerTest’\n",
      "\n",
      "\n",
      "The following object is masked from ‘package:lme4’:\n",
      "\n",
      "    lmer\n",
      "\n",
      "\n",
      "The following object is masked from ‘package:stats’:\n",
      "\n",
      "    step\n",
      "\n",
      "\n",
      "The 'lsmeans' package is now basically a front end for 'emmeans'.\n",
      "Users are encouraged to switch the rest of the way.\n",
      "See help('transition') for more information, including how to\n",
      "convert old 'lsmeans' objects and scripts to work with 'emmeans'.\n",
      "\n"
     ]
    }
   ],
   "source": [
    "library(lmerTest)\n",
    "library(emmeans)\n",
    "library(ggplot2)\n",
    "library(lsmeans)"
   ]
  },
  {
   "cell_type": "code",
   "execution_count": 2,
   "metadata": {},
   "outputs": [],
   "source": [
    "data <- read.csv('/home/kfsh/git/onsetProd/results/stats/lmem_dwemg_paper.csv')\n",
    "lm <- lmer(\"Mean_diff ~ Epoch_type + (1|Subject)\", data=data)"
   ]
  },
  {
   "cell_type": "code",
   "execution_count": 3,
   "metadata": {},
   "outputs": [
    {
     "data": {
      "text/plain": [
       "Linear mixed model fit by REML. t-tests use Satterthwaite's method [\n",
       "lmerModLmerTest]\n",
       "Formula: \"Mean_diff ~ Epoch_type + (1|Subject)\"\n",
       "   Data: data\n",
       "\n",
       "REML criterion at convergence: 281155.9\n",
       "\n",
       "Scaled residuals: \n",
       "   Min     1Q Median     3Q    Max \n",
       "-1.025 -0.031 -0.009  0.033 76.921 \n",
       "\n",
       "Random effects:\n",
       " Groups   Name        Variance Std.Dev.\n",
       " Subject  (Intercept)  13829   117.6   \n",
       " Residual             387734   622.7   \n",
       "Number of obs: 17899, groups:  Subject, 17\n",
       "\n",
       "Fixed effects:\n",
       "               Estimate Std. Error        df t value Pr(>|t|)    \n",
       "(Intercept)      -2.556     30.021    18.479  -0.085 0.933056    \n",
       "Epoch_typeemg    78.040     14.512 17530.641   5.378 7.65e-08 ***\n",
       "Epoch_typesen    41.668     11.377 17895.996   3.662 0.000251 ***\n",
       "---\n",
       "Signif. codes:  0 ‘***’ 0.001 ‘**’ 0.01 ‘*’ 0.05 ‘.’ 0.1 ‘ ’ 1\n",
       "\n",
       "Correlation of Fixed Effects:\n",
       "            (Intr) Epch_typm\n",
       "Epoch_typmg -0.197          \n",
       "Epoch_typsn -0.245  0.522   "
      ]
     },
     "metadata": {},
     "output_type": "display_data"
    }
   ],
   "source": [
    "summary(lm)"
   ]
  },
  {
   "cell_type": "code",
   "execution_count": 8,
   "metadata": {},
   "outputs": [
    {
     "ename": "ERROR",
     "evalue": "Error in emmeans(lm, \"Epoch_type + (1|Subject)\", pbkrtest.limit = 17406): No variable named Epoch_type + (1|Subject) in the reference grid\n",
     "output_type": "error",
     "traceback": [
      "Error in emmeans(lm, \"Epoch_type + (1|Subject)\", pbkrtest.limit = 17406): No variable named Epoch_type + (1|Subject) in the reference grid\nTraceback:\n",
      "1. emmeans(lm, \"Epoch_type + (1|Subject)\", pbkrtest.limit = 17406)",
      "2. stop(paste(\"No variable named\", f, \"in the reference grid\"))"
     ]
    }
   ],
   "source": [
    "em <- emmeans(lm, \"Epoch_type\", pbkrtest.limit=17406)"
   ]
  },
  {
   "cell_type": "code",
   "execution_count": 7,
   "metadata": {},
   "outputs": [
    {
     "data": {
      "text/html": [
       "<table>\n",
       "<thead><tr><th scope=col>Epoch_type</th><th scope=col>emmean</th><th scope=col>SE</th><th scope=col>df</th><th scope=col>t.ratio</th><th scope=col>p.value</th></tr></thead>\n",
       "<tbody>\n",
       "\t<tr><td>click      </td><td>-1.430966  </td><td>24.81109   </td><td>17.94176   </td><td>-0.05767445</td><td>0.95464543 </td></tr>\n",
       "\t<tr><td>emg        </td><td>51.498172  </td><td>25.45385   </td><td>19.84005   </td><td> 2.02319781</td><td>0.05673606 </td></tr>\n",
       "\t<tr><td>sen        </td><td>40.266288  </td><td>24.35938   </td><td>16.66800   </td><td> 1.65300979</td><td>0.11703827 </td></tr>\n",
       "</tbody>\n",
       "</table>\n"
      ],
      "text/latex": [
       "\\begin{tabular}{r|llllll}\n",
       " Epoch\\_type & emmean & SE & df & t.ratio & p.value\\\\\n",
       "\\hline\n",
       "\t click       & -1.430966   & 24.81109    & 17.94176    & -0.05767445 & 0.95464543 \\\\\n",
       "\t emg         & 51.498172   & 25.45385    & 19.84005    &  2.02319781 & 0.05673606 \\\\\n",
       "\t sen         & 40.266288   & 24.35938    & 16.66800    &  1.65300979 & 0.11703827 \\\\\n",
       "\\end{tabular}\n"
      ],
      "text/markdown": [
       "\n",
       "| Epoch_type | emmean | SE | df | t.ratio | p.value |\n",
       "|---|---|---|---|---|---|\n",
       "| click       | -1.430966   | 24.81109    | 17.94176    | -0.05767445 | 0.95464543  |\n",
       "| emg         | 51.498172   | 25.45385    | 19.84005    |  2.02319781 | 0.05673606  |\n",
       "| sen         | 40.266288   | 24.35938    | 16.66800    |  1.65300979 | 0.11703827  |\n",
       "\n"
      ],
      "text/plain": [
       "  Epoch_type emmean    SE       df       t.ratio     p.value   \n",
       "1 click      -1.430966 24.81109 17.94176 -0.05767445 0.95464543\n",
       "2 emg        51.498172 25.45385 19.84005  2.02319781 0.05673606\n",
       "3 sen        40.266288 24.35938 16.66800  1.65300979 0.11703827"
      ]
     },
     "metadata": {},
     "output_type": "display_data"
    }
   ],
   "source": [
    "test(em)"
   ]
  },
  {
   "cell_type": "code",
   "execution_count": 4,
   "metadata": {},
   "outputs": [
    {
     "name": "stderr",
     "output_type": "stream",
     "text": [
      "Note: D.f. calculations have been disabled because the number of observations exceeds 17406.\n",
      "To enable adjustments, add the argument 'pbkrtest.limit = 17899' (or larger)\n",
      "[or, globally, 'set emm_options(pbkrtest.limit = 17899)' or larger];\n",
      "but be warned that this may result in large computation time and memory use.\n",
      "\n",
      "Note: D.f. calculations have been disabled because the number of observations exceeds 3000.\n",
      "To enable adjustments, add the argument 'lmerTest.limit = 17899' (or larger)\n",
      "[or, globally, 'set emm_options(lmerTest.limit = 17899)' or larger];\n",
      "but be warned that this may result in large computation time and memory use.\n",
      "\n"
     ]
    },
    {
     "data": {
      "text/html": [
       "<dl>\n",
       "\t<dt>$emmeans</dt>\n",
       "\t\t<dd><table>\n",
       "<thead><tr><th scope=col>Epoch_type</th><th scope=col>emmean</th><th scope=col>SE</th><th scope=col>df</th><th scope=col>asymp.LCL</th><th scope=col>asymp.UCL</th></tr></thead>\n",
       "<tbody>\n",
       "\t<tr><td>click    </td><td>-2.556396</td><td>30.02139 </td><td>Inf      </td><td>-61.39723</td><td> 56.28444</td></tr>\n",
       "\t<tr><td>emg      </td><td>75.484017</td><td>30.65864 </td><td>Inf      </td><td> 15.39419</td><td>135.57385</td></tr>\n",
       "\t<tr><td>sen      </td><td>39.111240</td><td>29.38528 </td><td>Inf      </td><td>-18.48285</td><td> 96.70533</td></tr>\n",
       "</tbody>\n",
       "</table>\n",
       "</dd>\n",
       "\t<dt>$contrasts</dt>\n",
       "\t\t<dd><table>\n",
       "<thead><tr><th scope=col>contrast</th><th scope=col>estimate</th><th scope=col>SE</th><th scope=col>df</th><th scope=col>z.ratio</th><th scope=col>p.value</th></tr></thead>\n",
       "<tbody>\n",
       "\t<tr><td>click - emg </td><td>-78.04041   </td><td>14.51212    </td><td>Inf         </td><td>-5.377601   </td><td>2.261356e-07</td></tr>\n",
       "\t<tr><td>click - sen </td><td>-41.66764   </td><td>11.37749    </td><td>Inf         </td><td>-3.662287   </td><td>7.309615e-04</td></tr>\n",
       "\t<tr><td>emg - sen   </td><td> 36.37278   </td><td>12.94729    </td><td>Inf         </td><td> 2.809297   </td><td>1.376010e-02</td></tr>\n",
       "</tbody>\n",
       "</table>\n",
       "</dd>\n",
       "</dl>\n"
      ],
      "text/latex": [
       "\\begin{description}\n",
       "\\item[\\$emmeans] \\begin{tabular}{r|llllll}\n",
       " Epoch\\_type & emmean & SE & df & asymp.LCL & asymp.UCL\\\\\n",
       "\\hline\n",
       "\t click     & -2.556396 & 30.02139  & Inf       & -61.39723 &  56.28444\\\\\n",
       "\t emg       & 75.484017 & 30.65864  & Inf       &  15.39419 & 135.57385\\\\\n",
       "\t sen       & 39.111240 & 29.38528  & Inf       & -18.48285 &  96.70533\\\\\n",
       "\\end{tabular}\n",
       "\n",
       "\\item[\\$contrasts] \\begin{tabular}{r|llllll}\n",
       " contrast & estimate & SE & df & z.ratio & p.value\\\\\n",
       "\\hline\n",
       "\t click - emg  & -78.04041    & 14.51212     & Inf          & -5.377601    & 2.261356e-07\\\\\n",
       "\t click - sen  & -41.66764    & 11.37749     & Inf          & -3.662287    & 7.309615e-04\\\\\n",
       "\t emg - sen    &  36.37278    & 12.94729     & Inf          &  2.809297    & 1.376010e-02\\\\\n",
       "\\end{tabular}\n",
       "\n",
       "\\end{description}\n"
      ],
      "text/markdown": [
       "$emmeans\n",
       ":   \n",
       "| Epoch_type | emmean | SE | df | asymp.LCL | asymp.UCL |\n",
       "|---|---|---|---|---|---|\n",
       "| click     | -2.556396 | 30.02139  | Inf       | -61.39723 |  56.28444 |\n",
       "| emg       | 75.484017 | 30.65864  | Inf       |  15.39419 | 135.57385 |\n",
       "| sen       | 39.111240 | 29.38528  | Inf       | -18.48285 |  96.70533 |\n",
       "\n",
       "\n",
       "$contrasts\n",
       ":   \n",
       "| contrast | estimate | SE | df | z.ratio | p.value |\n",
       "|---|---|---|---|---|---|\n",
       "| click - emg  | -78.04041    | 14.51212     | Inf          | -5.377601    | 2.261356e-07 |\n",
       "| click - sen  | -41.66764    | 11.37749     | Inf          | -3.662287    | 7.309615e-04 |\n",
       "| emg - sen    |  36.37278    | 12.94729     | Inf          |  2.809297    | 1.376010e-02 |\n",
       "\n",
       "\n",
       "\n",
       "\n"
      ],
      "text/plain": [
       "$emmeans\n",
       " Epoch_type emmean   SE  df asymp.LCL asymp.UCL\n",
       " click       -2.56 30.0 Inf     -61.4      56.3\n",
       " emg         75.48 30.7 Inf      15.4     135.6\n",
       " sen         39.11 29.4 Inf     -18.5      96.7\n",
       "\n",
       "Degrees-of-freedom method: asymptotic \n",
       "Confidence level used: 0.95 \n",
       "\n",
       "$contrasts\n",
       " contrast    estimate   SE  df z.ratio p.value\n",
       " click - emg    -78.0 14.5 Inf -5.378  <.0001 \n",
       " click - sen    -41.7 11.4 Inf -3.662  0.0007 \n",
       " emg - sen       36.4 12.9 Inf  2.809  0.0138 \n",
       "\n",
       "Degrees-of-freedom method: asymptotic \n",
       "P value adjustment: tukey method for comparing a family of 3 estimates \n"
      ]
     },
     "metadata": {},
     "output_type": "display_data"
    }
   ],
   "source": [
    "em <- emmeans(lm,pairwise ~ Epoch_type,pbkrtest.limit = 17406)\n",
    "summary(em)"
   ]
  },
  {
   "cell_type": "code",
   "execution_count": 5,
   "metadata": {},
   "outputs": [
    {
     "name": "stderr",
     "output_type": "stream",
     "text": [
      "Saving 6.67 x 6.67 in image\n",
      "\n"
     ]
    },
    {
     "data": {
      "image/png": "[encoded data removed]",
      "text/plain": [
       "plot without title"
      ]
     },
     "metadata": {
      "image/png": {
       "height": 420,
       "width": 420
      }
     },
     "output_type": "display_data"
    }
   ],
   "source": [
    "plot(em,by=NULL,horizontal=FALSE,colors='#bf5700')\n",
    "ggsave('/home/kfsh/git/onsetProd/thesis/figures/pdf/3_cca_lme.pdf')"
   ]
  }
 ],
 "metadata": {
  "kernelspec": {
   "display_name": "R",
   "language": "R",
   "name": "ir"
  },
  "language_info": {
   "codemirror_mode": "r",
   "file_extension": ".r",
   "mimetype": "text/x-r-source",
   "name": "R",
   "pygments_lexer": "r",
   "version": "3.6.1"
  }
 },
 "nbformat": 4,
 "nbformat_minor": 4
}
